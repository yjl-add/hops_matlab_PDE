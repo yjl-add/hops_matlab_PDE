{
 "cells": [
  {
   "cell_type": "code",
   "execution_count": 1,
   "metadata": {},
   "outputs": [],
   "source": [
    "import matlab.engine\n",
    "import numpy as np\n",
    "import rhino3dm"
   ]
  },
  {
   "cell_type": "code",
   "execution_count": 2,
   "metadata": {},
   "outputs": [],
   "source": [
    "eng = matlab.engine.start_matlab()"
   ]
  },
  {
   "cell_type": "markdown",
   "metadata": {},
   "source": [
    "# Simple Arithmetic Test"
   ]
  },
  {
   "cell_type": "code",
   "execution_count": 3,
   "metadata": {},
   "outputs": [
    {
     "name": "stdout",
     "output_type": "stream",
     "text": [
      "7\n",
      "12\n"
     ]
    }
   ],
   "source": [
    "a = 3\n",
    "b = 4\n",
    "\n",
    "ans = eng.matlab_add(a, b)\n",
    "print(ans)\n",
    "\n",
    "ans = eng.matlab_mult(a, b)\n",
    "print(ans)"
   ]
  },
  {
   "cell_type": "markdown",
   "metadata": {},
   "source": [
    "# Pass Data"
   ]
  },
  {
   "cell_type": "code",
   "execution_count": 57,
   "metadata": {},
   "outputs": [],
   "source": [
    "pt_rh = rhino3dm.Point3d(1,2,3)\n",
    "c1 = []\n",
    "c1.append(pt_rh.X)\n",
    "c1.append(pt_rh.Y)"
   ]
  },
  {
   "cell_type": "code",
   "execution_count": 99,
   "metadata": {},
   "outputs": [],
   "source": [
    "data = [2,1,2,3]\n",
    "index = 3"
   ]
  },
  {
   "cell_type": "code",
   "execution_count": 100,
   "metadata": {},
   "outputs": [
    {
     "name": "stdout",
     "output_type": "stream",
     "text": [
      "[2, 1, 2, 3]\n",
      "cell\n"
     ]
    }
   ],
   "source": [
    "a,b = eng.matlab_pass(data,nargout=2)\n",
    "print(a)\n",
    "print(b)"
   ]
  },
  {
   "cell_type": "code",
   "execution_count": 101,
   "metadata": {},
   "outputs": [
    {
     "name": "stdout",
     "output_type": "stream",
     "text": [
      "[2, 1, 2, 3]\n",
      "cell\n",
      "3\n",
      "int64\n"
     ]
    }
   ],
   "source": [
    "a,b,c,d = eng.matlab_list(data,index,nargout=4)\n",
    "print(a)\n",
    "print(b)\n",
    "\n",
    "print(c)\n",
    "print(d)"
   ]
  },
  {
   "cell_type": "code",
   "execution_count": 64,
   "metadata": {},
   "outputs": [
    {
     "data": {
      "text/plain": [
       "array([], shape=(1, 1, 0), dtype=float64)"
      ]
     },
     "execution_count": 64,
     "metadata": {},
     "output_type": "execute_result"
    }
   ],
   "source": [
    "np.array(c)"
   ]
  },
  {
   "cell_type": "markdown",
   "metadata": {},
   "source": [
    "# PDE 2D"
   ]
  },
  {
   "cell_type": "code",
   "execution_count": 126,
   "metadata": {},
   "outputs": [],
   "source": [
    "pde_bool = True\n",
    "\n",
    "file_name = 'C:\\\\Users\\\\Ghost\\\\Documents\\\\MATLAB\\\\3d\\\\plate.stl'\n",
    "\n",
    "hmax = 0.1\n",
    "hmin = 0.05\n",
    "\n",
    "tbc= 0\n",
    "\n",
    "p1 = rhino3dm.Point2d(-0.5,0)\n",
    "p2 = rhino3dm.Point2d(0.5,0)\n",
    "\n",
    "c1=[]\n",
    "c2=[]\n",
    "\n",
    "c1.append(p1.X)\n",
    "c1.append(p1.Y)\n",
    "\n",
    "c2.append(p2.X)\n",
    "c2.append(p2.Y)\n",
    "\n",
    "temp1 = 1000\n",
    "temp2 = -1\n",
    "\n",
    "ss = 0.01\n",
    "sn = 5"
   ]
  },
  {
   "cell_type": "code",
   "execution_count": 127,
   "metadata": {},
   "outputs": [],
   "source": [
    "node,ev_t,qx,qy = eng.matlab_2d(pde_bool,file_name,hmin,hmax,tbc,c1,c2,temp1,temp2,ss,sn,nargout=4)"
   ]
  },
  {
   "cell_type": "code",
   "execution_count": 118,
   "metadata": {},
   "outputs": [],
   "source": [
    "node_np = np.array(node)\n",
    "node_tp = node_np.transpose(1,0)\n",
    "node_list = node_tp.tolist()"
   ]
  },
  {
   "cell_type": "code",
   "execution_count": 119,
   "metadata": {},
   "outputs": [
    {
     "data": {
      "text/plain": [
       "[-0.5, -0.5]"
      ]
     },
     "execution_count": 119,
     "metadata": {},
     "output_type": "execute_result"
    }
   ],
   "source": [
    "node_list[0]"
   ]
  },
  {
   "cell_type": "markdown",
   "metadata": {},
   "source": [
    "# PDE 3D"
   ]
  },
  {
   "cell_type": "code",
   "execution_count": 377,
   "metadata": {},
   "outputs": [],
   "source": [
    "pde_bool = True\n",
    "pde_file = 'C:\\\\Users\\\\Ghost\\\\Documents\\\\MATLAB\\\\matlab_python\\\\3d\\\\Test.stl'\n",
    "x = float(0.01)\n",
    "y = int(5)\n",
    "node,ev_t,qx,qy,qz = eng.matlab_3d(pde_bool,pde_file,x,y,nargout=5)"
   ]
  },
  {
   "cell_type": "code",
   "execution_count": 378,
   "metadata": {},
   "outputs": [],
   "source": [
    "node_np = np.array(node)\n",
    "node_tp = node_np.transpose(1,0)\n",
    "node_list = node_tp.tolist()\n",
    "\n",
    "ev_t_np = np.array(ev_t)\n",
    "ev_t_list = ev_t_np.tolist()\n",
    "\n",
    "qx_np = np.array(qx)\n",
    "qx_list = qx_np.tolist()\n",
    "\n",
    "qy_np = np.array(qy)\n",
    "qy_list = qy_np.tolist()"
   ]
  },
  {
   "cell_type": "code",
   "execution_count": 381,
   "metadata": {},
   "outputs": [
    {
     "data": {
      "text/plain": [
       "[125.10835266113281, 68.88066864013672, 0.0]"
      ]
     },
     "execution_count": 381,
     "metadata": {},
     "output_type": "execute_result"
    }
   ],
   "source": [
    "node_list[4]"
   ]
  },
  {
   "cell_type": "markdown",
   "metadata": {},
   "source": [
    "# End Matlab Engine"
   ]
  },
  {
   "cell_type": "code",
   "execution_count": 344,
   "metadata": {},
   "outputs": [],
   "source": [
    "eng.quit()"
   ]
  },
  {
   "cell_type": "markdown",
   "metadata": {},
   "source": [
    "# NP Test"
   ]
  },
  {
   "cell_type": "code",
   "execution_count": 223,
   "metadata": {},
   "outputs": [],
   "source": [
    "a = [\n",
    "    [0,1,2],    #pt1\n",
    "    [3,4,5]     #pt2\n",
    "]\n",
    "\n",
    "b = [\n",
    "    [6,7,8],    #pt1\n",
    "    [9,10,11]   #pt2\n",
    "]"
   ]
  },
  {
   "cell_type": "code",
   "execution_count": 224,
   "metadata": {},
   "outputs": [],
   "source": [
    "na = np.array(a)\n",
    "nb = np.array(b)"
   ]
  },
  {
   "cell_type": "code",
   "execution_count": 255,
   "metadata": {},
   "outputs": [
    {
     "data": {
      "text/plain": [
       "(2, 3)"
      ]
     },
     "execution_count": 255,
     "metadata": {},
     "output_type": "execute_result"
    }
   ],
   "source": [
    "na.shape"
   ]
  },
  {
   "cell_type": "code",
   "execution_count": 267,
   "metadata": {},
   "outputs": [
    {
     "data": {
      "text/plain": [
       "[[[0, 6], [1, 7], [2, 8]], [[3, 9], [4, 10], [5, 11]]]"
      ]
     },
     "execution_count": 267,
     "metadata": {},
     "output_type": "execute_result"
    }
   ],
   "source": [
    "nar = np.reshape(na,(-1,1))\n",
    "nbr = np.reshape(nb,(-1,1))\n",
    "nn = np.hstack((nar,nbr))\n",
    "nk = np.reshape(nn,(na.shape[0],-1,2))\n",
    "nk.tolist()"
   ]
  }
 ],
 "metadata": {
  "interpreter": {
   "hash": "04635d289a519a1410467dd0afb0db42f9184808881ca68b2eb5a687a20a5a94"
  },
  "kernelspec": {
   "display_name": "Python 3.7.9 64-bit",
   "name": "python3"
  },
  "language_info": {
   "codemirror_mode": {
    "name": "ipython",
    "version": 3
   },
   "file_extension": ".py",
   "mimetype": "text/x-python",
   "name": "python",
   "nbconvert_exporter": "python",
   "pygments_lexer": "ipython3",
   "version": "3.7.9"
  },
  "orig_nbformat": 4
 },
 "nbformat": 4,
 "nbformat_minor": 2
}
